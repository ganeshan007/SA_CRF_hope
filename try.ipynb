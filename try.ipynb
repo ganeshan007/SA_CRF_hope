{
 "cells": [
  {
   "cell_type": "code",
   "execution_count": 4,
   "metadata": {},
   "outputs": [
    {
     "output_type": "stream",
     "name": "stdout",
     "text": [
      "{'79', '114', '145', '194', '41', '51', '185', '59', '166', '137', '144', '9', '129', '191', '92', '124', '132', '4', '172', '82', '136', '105', '176', '100', '213', '86', '138', '108', '97', '38', '159', '39', '31', '142', '52', '104', '186', '23', '2', '189', '212', '158'}\n"
     ]
    }
   ],
   "source": [
    "import pandas as pd\n",
    "from collections import defaultdict\n",
    "df=pd.read_csv('dataset/hope_test_new.csv')\n",
    "a=df['ID'].str.split('_')\n",
    "l=[k[0] for k in a]\n",
    "df['hello']=l\n",
    "df.head()\n",
    "id_list=list(df['ID'])\n",
    "id_set=set()\n",
    "tag_set=set()\n",
    "speaker_set=set()\n",
    "for i in id_list:\n",
    "    k=i.split('_')\n",
    "    id_set.add(k[0])\n",
    "print(id_set)\n",
    "# print(id_dict)\n",
    "# corpus = defaultdict(lambda: defaultdict(list))\n",
    "# for idx in id_set:\n",
    "#     l=list(df[df['hello']==str(idx)]['Utterance'])\n",
    "#     l1=list(df[df['hello']==str(idx)]['Type'])\n",
    "#     l2=list(df[df['hello']==str(idx)]['Dialog_Act'])\n",
    "#     corpus[idx]['sentence']=l\n",
    "#     corpus[idx]['speaker']=l1\n",
    "#     corpus[idx]['tag']=l2\n",
    "#     speaker_set.update(set(l1))\n",
    "#     tag_set.update(set(l2))\n",
    "    \n"
   ]
  },
  {
   "cell_type": "code",
   "execution_count": 84,
   "metadata": {
    "tags": []
   },
   "outputs": [],
   "source": [
    "tag_set=set()\n",
    "corpus = defaultdict(lambda: defaultdict(list))\n",
    "speaker_set=set()\n",
    "f=['C:/Users/Ganeshan/Desktop/Thesis/CRF_baseline/dataset/hope_test_new.csv','C:/Users/Ganeshan/Desktop/Thesis/CRF_baseline/dataset/hope_train_new.csv','C:/Users/Ganeshan/Desktop/Thesis/CRF_baseline/dataset/hope_validation_new.csv']\n",
    "for file in f:\n",
    "    df=pd.read_csv(file)\n",
    "    a=df['ID'].str.split('_')\n",
    "    # print(a)\n",
    "    l=[k[0] for k in a]\n",
    "    # print(l)\n",
    "    df['hello']=l\n",
    "    df.head()\n",
    "    id_list=list(df['ID'])\n",
    "    id_set=set()\n",
    "    for i in id_list:\n",
    "        k=i.split('_')\n",
    "        id_set.add(k[0])\n",
    "\n",
    "    for idx in id_set:\n",
    "        la=list(df[df['hello']==str(idx)]['Utterance'])\n",
    "        l1=list(df[df['hello']==str(idx)]['Type'])\n",
    "        l2=list(df[df['hello']==str(idx)]['Dialogue_Act'])\n",
    "        corpus[idx]['sentence']=la\n",
    "        # print(idx)\n",
    "        # print(corpus[idx]['sentence'])\n",
    "        corpus[idx]['speaker']=l1\n",
    "        corpus[idx]['tag']=l2\n",
    "        speaker_set.update(set(l1))\n",
    "        tag_set.update(set(l2))"
   ]
  },
  {
   "cell_type": "code",
   "execution_count": 14,
   "metadata": {},
   "outputs": [
    {
     "output_type": "execute_result",
     "data": {
      "text/plain": [
       "      Unnamed: 0     ID Type  \\\n",
       "8932        8932  88_26  NaN   \n",
       "\n",
       "                                              Utterance Dialogue_Act  \\\n",
       "8932  Have you had to give up any important activiti...           yq   \n",
       "\n",
       "     Dialogue_Act_1 Emotion  \n",
       "8932            NaN       0  "
      ],
      "text/html": "<div>\n<style scoped>\n    .dataframe tbody tr th:only-of-type {\n        vertical-align: middle;\n    }\n\n    .dataframe tbody tr th {\n        vertical-align: top;\n    }\n\n    .dataframe thead th {\n        text-align: right;\n    }\n</style>\n<table border=\"1\" class=\"dataframe\">\n  <thead>\n    <tr style=\"text-align: right;\">\n      <th></th>\n      <th>Unnamed: 0</th>\n      <th>ID</th>\n      <th>Type</th>\n      <th>Utterance</th>\n      <th>Dialogue_Act</th>\n      <th>Dialogue_Act_1</th>\n      <th>Emotion</th>\n    </tr>\n  </thead>\n  <tbody>\n    <tr>\n      <th>8932</th>\n      <td>8932</td>\n      <td>88_26</td>\n      <td>NaN</td>\n      <td>Have you had to give up any important activiti...</td>\n      <td>yq</td>\n      <td>NaN</td>\n      <td>0</td>\n    </tr>\n  </tbody>\n</table>\n</div>"
     },
     "metadata": {},
     "execution_count": 14
    }
   ],
   "source": [
    "df=pd.read_csv('dataset/hope_train_new.csv')\n",
    "df[df['Type'].isnull()]"
   ]
  },
  {
   "cell_type": "code",
   "execution_count": 87,
   "metadata": {},
   "outputs": [
    {
     "output_type": "stream",
     "name": "stdout",
     "text": [
      "1 9\n10 78\n101 62\n103 4\n106 94\n107 46\n109 10\n11 28\n110 26\n111 15\n112 29\n113 23\n115 16\n117 25\n118 14\n119 24\n12 11\n120 13\n121 53\n122 51\n123 40\n125 13\n128 19\n13 18\n130 9\n131 21\n134 16\n135 121\n139 156\n14 101\n140 86\n141 220\n143 55\n146 68\n147 62\n149 93\n15 69\n150 104\n151 54\n152 89\n155 84\n156 74\n160 49\n161 137\n162 97\n163 115\n164 26\n165 45\n167 54\n168 70\n169 77\n17 114\n170 41\n171 50\n173 197\n174 134\n175 60\n177 23\n178 21\n179 58\n18 70\n180 30\n181 76\n182 230\n183 56\n184 142\n187 14\n188 54\n190 84\n192 106\n193 72\n195 75\n196 21\n197 35\n199 48\n20 79\n202 31\n203 65\n204 48\n205 79\n206 72\n207 95\n208 86\n209 117\n21 94\n210 100\n211 66\n22 49\n24 100\n25 91\n26 136\n27 62\n28 71\n29 77\n3 60\n30 57\n32 57\n33 45\n34 12\n35 75\n36 65\n37 52\n42 34\n43 83\n44 19\n45 65\n47 74\n48 48\n49 80\n5 54\n50 52\n53 72\n54 103\n55 13\n56 41\n57 109\n58 50\n6 54\n60 57\n61 42\n63 72\n64 173\n65 66\n66 32\n67 54\n68 49\n7 71\n70 91\n73 45\n74 8\n76 28\n77 31\n78 26\n8 175\n80 47\n83 69\n84 70\n85 78\n87 46\n88 44\n89 22\n90 60\n91 66\n93 50\n94 83\n95 44\n96 66\n98 34\n99 45\n"
     ]
    }
   ],
   "source": [
    "train_set_idx=['1', '10', '101', '103', '106', '107', '109', '11', '110', '111', '112', '113', '115', '117', '118', '119', '12', '120', '121', '122', '123', '125', '128', '13', '130', '131', '134', '135', '139', '14', '140', '141', '143', '146', '147', '149', '15', '150', '151', '152', '155', '156', '160', '161', '162', '163', '164', '165', '167', '168', '169', '17', '170', '171', '173', '174', '175', '177', '178', '179', '18', '180', '181', '182', '183', '184', '187', '188', '190', '192', '193', '195', '196', '197', '199', '20', '202', '203', '204', '205', '206', '207', '208', '209', '21', '210', '211', '22', '24', '25', '26', '27', '28', '29', '3', '30', '32', '33', '34', '35', '36', '37', '42', '43', '44', '45', '47', '48', '49', '5', '50', '53', '54', '55', '56', '57', '58', '6', '60', '61', '63', '64', '65', '66', '67', '68', '7', '70', '73', '74', '76', '77', '78', '8', '80', '83', '84', '85', '87', '88', '89', '90', '91', '93', '94', '95', '96', '98', '99']\n",
    "test_set_idx=['100', '104', '105', '108', '114', '124', '129', '132', '136', '137', '138', '142', '144', '145', '158', '159', '166', '172', '176', '185', '186', '189', '191', '194', '2', '212', '213', '23', '31', '38', '39', '4', '41', '51', '52', '59', '79', '82', '86', '9', '92', '97']\n",
    "valid_set_idx=['102', '116', '126', '127', '133', '148', '153', '154', '157', '16', '19', '198', '201', '214', '40', '46', '69', '71', '72', '75', '81']\n",
    "\n",
    "for i in train_set_idx:\n",
    "    print(i,len(corpus[i]['tag']))\n",
    "        # print(i)"
   ]
  },
  {
   "cell_type": "code",
   "execution_count": 81,
   "metadata": {},
   "outputs": [
    {
     "output_type": "execute_result",
     "data": {
      "text/plain": [
       "['gt',\n",
       " 'id',\n",
       " 'yq',\n",
       " 'op',\n",
       " 'irq',\n",
       " 'id',\n",
       " 'yq',\n",
       " 'op',\n",
       " 'irq',\n",
       " 'id',\n",
       " 'ack',\n",
       " 'id',\n",
       " 'cd',\n",
       " 'id',\n",
       " 'id',\n",
       " 'crq',\n",
       " 'cd',\n",
       " 'id',\n",
       " 'id',\n",
       " 'id',\n",
       " 'id',\n",
       " 'id',\n",
       " 'cd',\n",
       " 'id',\n",
       " 'id',\n",
       " 'id',\n",
       " 'irq',\n",
       " 'crq',\n",
       " 'cd',\n",
       " 'id',\n",
       " 'id',\n",
       " 'id',\n",
       " 'irq',\n",
       " 'id',\n",
       " 'id',\n",
       " 'id',\n",
       " 'id',\n",
       " 'id',\n",
       " 'id',\n",
       " 'crq',\n",
       " 'cd',\n",
       " 'crq',\n",
       " 'cd',\n",
       " 'gc',\n",
       " 'id',\n",
       " 'gt']"
      ]
     },
     "metadata": {},
     "execution_count": 81
    }
   ],
   "source": [
    "corpus['107']['tag']"
   ]
  },
  {
   "cell_type": "code",
   "execution_count": 5,
   "metadata": {},
   "outputs": [
    {
     "output_type": "execute_result",
     "data": {
      "text/plain": [
       "Empty DataFrame\n",
       "Columns: [Unnamed: 0, ID, Type, Utterance, Dialogue_Act, Dialogue_Act_1, Emotion, hello]\n",
       "Index: []"
      ],
      "text/html": "<div>\n<style scoped>\n    .dataframe tbody tr th:only-of-type {\n        vertical-align: middle;\n    }\n\n    .dataframe tbody tr th {\n        vertical-align: top;\n    }\n\n    .dataframe thead th {\n        text-align: right;\n    }\n</style>\n<table border=\"1\" class=\"dataframe\">\n  <thead>\n    <tr style=\"text-align: right;\">\n      <th></th>\n      <th>Unnamed: 0</th>\n      <th>ID</th>\n      <th>Type</th>\n      <th>Utterance</th>\n      <th>Dialogue_Act</th>\n      <th>Dialogue_Act_1</th>\n      <th>Emotion</th>\n      <th>hello</th>\n    </tr>\n  </thead>\n  <tbody>\n  </tbody>\n</table>\n</div>"
     },
     "metadata": {},
     "execution_count": 5
    }
   ],
   "source": [
    "a=df['ID'].str.split('_')\n",
    "l=[k[0] for k in a]\n",
    "df['hello']=l\n",
    "df[df['hello']=='3']"
   ]
  },
  {
   "cell_type": "code",
   "execution_count": 22,
   "metadata": {},
   "outputs": [
    {
     "name": "stdout",
     "output_type": "stream",
     "text": [
      "18\n"
     ]
    }
   ],
   "source": [
    "print(len(tag_set))"
   ]
  },
  {
   "cell_type": "code",
   "execution_count": 1,
   "metadata": {
    "tags": []
   },
   "outputs": [
    {
     "output_type": "stream",
     "name": "stdout",
     "text": [
      "['gt', 'id', 'irq', 'id', 'irq', 'id', 'irq', 'id', 'irq', 'yna', 'irq', 'id', 'irq', 'id', 'irq', 'yna', 'ynq', 'yna', 'irq', 'yna', 'irq', 'id', 'irq', 'id', 'irq', 'ack', 'irq', 'id', 'irq', 'yna', 'irq', 'id', 'gc', 'ack', 'irq', 'ack', 'irq', 'id', 'irq', 'id', 'irq', 'irq', 'irq', 'id', 'irq', 'id', 'irq', 'id', 'irq', 'id', 'irq', 'yna', 'ack', 'yna', 'irq', 'id', 'ynq', 'ack', 'gc', 'ack', 'irq', 'id', 'id', 'id', 'irq', 'id', 'gc', 'ack', 'irq', 'id', 'irq', 'yna', 'id', 'ack', 'irq', 'id', 'irq', 'id', 'irq', 'id', 'gc', 'ack', 'gc', 'gc', 'irq', 'id', 'irq', 'id', 'gc', 'id', 'irq', 'id', 'gc', 'ack', 'irq', 'id', 'irq', 'id', 'gc', 'ack', 'gc', 'id', 'gc', 'id', 'irq', 'yna', 'irq', 'id', 'irq', 'id', 'gc', 'ack', 'gc', 'gc', 'gc']\n"
     ]
    }
   ],
   "source": [
    "import pickle\n",
    "with open('Results/prediction.pkl','rb') as f:\n",
    "    data=pickle.load(f)\n",
    "print(data['163']['prediction'])"
   ]
  },
  {
   "cell_type": "code",
   "execution_count": 16,
   "metadata": {
    "tags": [
     "outputPrepend"
    ]
   },
   "outputs": [
    {
     "output_type": "stream",
     "name": "stdout",
     "text": [
      "q', 'id', 'irq', 'id', 'gc', 'gc', 'irq', 'irq', 'id', 'id', 'ynq', 'ack', 'irq', 'id', 'id', 'ynq', 'ack', 'id', 'id', 'ynq', 'id', 'id', 'id', 'gc'], 'sequence': array([[   2, 3842,    1, ...,    0,    0,    0],\n       [  25,    0,    0, ...,    0,    0,    0],\n       [  86,  692,  144, ...,    0,    0,    0],\n       ...,\n       [ 246,  154,    0, ...,    0,    0,    0],\n       [ 161,  439,  161, ...,    0,    0,    0],\n       [ 119,   35,   15, ...,    0,    0,    0]]), 'speaker_change': array([1, 1, 1, 1, 1, 1, 1, 1, 1, 1, 1, 1, 1, 1, 1, 0, 0, 1, 1, 1, 1, 1,\n       1, 1, 1, 1, 1, 1, 1, 1, 1, 1, 1, 1, 1, 1, 1, 0, 1, 1, 0, 0, 1, 1,\n       0, 0, 1], dtype=int64), 'prediction': ['irq', 'id', 'irq', 'id', 'irq', 'id', 'irq', 'id', 'irq', 'id', 'irq', 'id', 'irq', 'id', 'irq', 'id', 'id', 'id', 'irq', 'id', 'irq', 'id', 'irq', 'id', 'irq', 'id', 'irq', 'id', 'irq', 'id', 'irq', 'irq', 'irq', 'id', 'irq', 'id', 'irq', 'id', 'id', 'irq', 'id', 'irq', 'id', 'irq', 'id', 'gc', 'id', 'gc']}), '111': defaultdict(<class 'list'>, {'sentence': [\"So what's on the agenda for today.\", \"Definitely my dad. He's been on my case, like all week getting on me. It's been a real jerk in my room playing video games and talk to my friends and just barges into my room. You know, he's getting on me at dinner. He just never lets up and he's on the about, you know, getting a job get my life together. All the time. It's like, as soon as I wake up in the morning, you know, there's an email from or, you know, something, just tell me to do stuff I don't want to do. It doesn't get the, you know, I'm not feeling good. And I'm not gonna do that.\", \"So let me so let me interrupt you for just a second here. Make sure I understand you. You're really upset about your father getting on you this past week, right? Yeah. And it's something that we could talk about today is just something that you think we could do to help the situation out?\", \"Yeah, we got to figure out some way to get him to back off. Okay, he's just on me. I don't maybe we can bring him in here. You know, tell them something. write him a letter, I don't know, but something that could just get him to leave me alone.\", \"Well, one idea would be to get him to bring him in here and get him to back off, but he's not here right now. And maybe there's some things that you can do to help him calm down or back up the situation on\", \"He's the one being a jerk.\", \"Well, that may be but maybe there's things you could do to be a little more assertive with him to let him know how you're feeling? Or perhaps to calm the  situation down.\", \"I don't know. If you've got some ideas all listen, I guess. But\", 'okay, well, maybe we can put our heads together and come up with some strategies to deal with your dad a little bit better. All right. Is that suddenly? Is that something we could put down in the agenda then?', 'Yeah, no, I definitely want to talk about so how', \"do I describe that then? dealing with my dad. Okay. Dealing with Dad.  Is there anything else you'd like to put on the agenda?\", \"I've been really tired lately just been sleeping a lot. Okay, last week or two.\", 'So I put down tired and sleep. So we have dealing with dad and tired and sleep. Which thing do you want to talk about first?', 'Definitely my dad.', \"Okay. So we don't want to forget about the homework. So we want to make sure we put that down on the agenda. And so, you want to talk about dealing with your dad, get do the homework first. Tough on my dad do definitely with your dad. Okay. So we want to make sure we allow enough time to talk about your homework is it's important. So tell me what happened this past week with your dad.\"], 'speaker': array([[1, 0],\n       [0, 1],\n       [1, 0],\n       [0, 1],\n       [1, 0],\n       [0, 1],\n       [1, 0],\n       [0, 1],\n       [1, 0],\n       [0, 1],\n       [1, 0],\n       [0, 1],\n       [1, 0],\n       [0, 1],\n       [1, 0]], dtype=int64), 'tag': ['irq', 'id', 'id', 'id', 'id', 'id', 'ynq', 'yna', 'irq', 'id', 'irq', 'id', 'irq', 'id', 'id'], 'sequence': array([[ 154,  669,   54, ...,    0,    0,    0],\n       [3580,  123, 6842, ...,    0,    0,    0],\n       [ 154,   96,  186, ...,    0,    0,    0],\n       ...,\n       [ 154,   15,  519, ...,    0,    0,    0],\n       [3580,  123, 6842, ...,    0,    0,    0],\n       [  25,  154,  144, ...,    0,    0,    0]]), 'speaker_change': array([1, 1, 1, 1, 1, 1, 1, 1, 1, 1, 1, 1, 1, 1], dtype=int64), 'prediction': ['irq', 'id', 'irq', 'id', 'irq', 'id', 'irq', 'id', 'irq', 'id', 'irq', 'id', 'irq', 'id', 'irq']}), '171': defaultdict(<class 'list'>, {'sentence': ['Hi Rebecca, How are you doing?', 'I am good, how are you?', 'Pretty good. Can I ask you what handed only write with?', 'my right hand', 'Your right hand would be all right to ask you some questions about your memory.', 'I guess', \"Okay, thank you. I'm gonna ask you some questions and give you some problems to solve. Please try to answer them as best as you can. \", 'Okay', 'What year is this?', '2015', 'what season of the year is this?', 'winter', 'what is the date today?', 'January 20.', 'what day of the week is this ?', 'Tuesday', 'What month is this', 'January', 'Can you tell me what country we are in?', 'United States', \"Do you know what county we're in?\", 'Newcastle', \"Do you know what city we're in?\", 'Newcastle', 'do the name or the address of this building?', 'was it Graduate Center? Three weeks away 31 weeks away', 'What floor of the building are we on?', 'First floor', \"I am going to name three objects. After I've said them, I want you to repeat them back to me. Apple, Table, Penny\", 'Apple, Table, Penny', \"remember what they are because I'm going to ask you to name them again in a few minutes.\", 'okay', \"Now I'm going to give you a word and ask you to spell it forwards and backwards. The word is world. First, Can you spell it forwards?\", 'W O R L D', 'Now, can you spell it backwards?', 'D L R O W', 'What were the three objects I asked you to remember earlier?', \"world? No. Apple. I can't remember.\", 'What is this called?', 'This the Watch.', 'I would like you to repeat a phrase after me. The phrases no ifs, ands or buts', 'no ifs ands or buts', \"I want you to read the words on the page. I'm going to hold up and then do with the word say.\", 'Close your eyes.', 'Thank you. take this paper in your right hand. Fold the paper once with both hands and put the paper down on your lap. On this piece of paper, write any complete sentence on that piece of paper for me. ', '.....', \"Thank you. Here's a drawing, please copy the drawing on the same paper. \", '....', 'Thank you. That concludes this test on that. Thank you for your cooperation.', 'Thank you'], 'speaker': array([[1, 0],\n       [0, 1],\n       [1, 0],\n       [0, 1],\n       [1, 0],\n       [0, 1],\n       [1, 0],\n       [0, 1],\n       [1, 0],\n       [0, 1],\n       [1, 0],\n       [0, 1],\n       [1, 0],\n       [0, 1],\n       [1, 0],\n       [0, 1],\n       [1, 0],\n       [0, 1],\n       [1, 0],\n       [0, 1],\n       [1, 0],\n       [0, 1],\n       [1, 0],\n       [0, 1],\n       [1, 0],\n       [0, 1],\n       [1, 0],\n       [0, 1],\n       [1, 0],\n       [0, 1],\n       [1, 0],\n       [0, 1],\n       [1, 0],\n       [0, 1],\n       [1, 0],\n       [0, 1],\n       [1, 0],\n       [0, 1],\n       [1, 0],\n       [0, 1],\n       [1, 0],\n       [0, 1],\n       [1, 0],\n       [0, 1],\n       [1, 0],\n       [0, 1],\n       [1, 0],\n       [0, 1],\n       [1, 0],\n       [0, 1]], dtype=int64), 'tag': ['gt', 'gt', 'gt', 'id', 'gc', 'ack', 'gc', 'ack', 'irq', 'id', 'irq', 'id', 'irq', 'id', 'irq', 'id', 'irq', 'id', 'irq', 'id', 'irq', 'id', 'irq', 'id', 'irq', 'id', 'irq', 'id', 'cmd', 'cr', 'gc', 'ack', 'cmd', 'cr', 'cmd', 'cr', 'irq', 'id', 'cmd', 'cr', 'cmd', 'cr', 'cmd', 'cr', 'gc', 'cr', 'gc', 'cr', 'gc', 'gc'], 'sequence': array([[1161,    1,  170, ...,    0,    0,    0],\n       [  15,   16,  950, ...,    0,    0,    0],\n       [3303,   80,  924, ...,    0,    0,    0],\n       ...,\n       [3685,    0,    0, ...,    0,    0,    0],\n       [ 659,  746,  405, ...,    0,    0,    0],\n       [ 659,   37,    0, ...,    0,    0,    0]]), 'speaker_change': array([1, 1, 1, 1, 1, 1, 1, 1, 1, 1, 1, 1, 1, 1, 1, 1, 1, 1, 1, 1, 1, 1,\n       1, 1, 1, 1, 1, 1, 1, 1, 1, 1, 1, 1, 1, 1, 1, 1, 1, 1, 1, 1, 1, 1,\n       1, 1, 1, 1, 1], dtype=int64), 'prediction': ['gt', 'gt', 'gt', 'gt', 'irq', 'id', 'irq', 'id', 'irq', 'id', 'irq', 'id', 'irq', 'id', 'irq', 'id', 'irq', 'id', 'irq', 'id', 'irq', 'id', 'irq', 'id', 'irq', 'id', 'irq', 'id', 'cmd', 'cmd', 'cmd', 'gc', 'gc', 'id', 'irq', 'id', 'irq', 'id', 'irq', 'id', 'irq', 'id', 'id', 'irq', 'id', 'cmd', 'cmd', 'id', 'gt', 'gt']}), '206': defaultdict(<class 'list'>, {'sentence': ['Yeah, okay. All right. What was your relationship with your teachers? And maybe those that some of the peers that you had at the school? I mean, was there any?', \"No, I usually I've been dealing with the teachers. Honestly, I was always the class clown. So I'm usually getting kicked out, getting detention, you know, so I didn't really get along with the teachers trying to teach class right stuff. \", 'Okay. So overall today are you pursuing or do you want to further your education', \"Yeah, I'm trying to get in college.\", \"Right. Yeah. Great. So you're looking into for year junior college,\", 'yeah, a dream college.', 'And what would be like, give me a little bit during the time that you were in school. Did you have a job heavy work?', \"I was working at cost wise, It's a restaurant Through the school, okay, and it was not like a job program, right, package of knives and forks and wrapped in salt and pepper and would send them over to the school. I mean to the restaurant. \", 'You sent over to the restaurant.', 'Yeah.', 'Okay. So you would prep everything, you know, all the tensile Ready? ', 'Yeah', \"Okay. Now, when you were working, how did that make you feel when you're working?\", 'You know, I got boring at times, obviously And because the Patriots were also really small. ', 'but it was the start?', 'Yeah, it was a start. ', 'Right. And so how did it make you feel good? Because you work for something And then the finished product was your paycheck.', 'Yeah.', 'So if you want something in life, you pretty much have to work for it work for a car or not You have to work at a young age. How old were you when you started working?', '10 years old', \"10 years old and then you started working and As a program for the school, so you know, you've known at a young age that it's going to take hard work,\", 'yeah to achieve something to achieve something.', \"Now, what about your dream job? What would be if tomorrow you could say, I'm gonna have this person tomorrow? Or this is my profession tomorrow? What would be your dream job? \", 'A pilot', \"Wow.  And when what was what's your reasoning behind that?\", 'I love airplanes I used to make smaller airplane', 'Tell me more about that. What would you do in your dream job?', 'I just want to fly by being in the end, I like going fast.', 'Fast in the air and being above Yeah, I think being able to see different view. So pilot Have you looked into what it would take to become a pilot.', \"You know, the only struggle with thatI dont have to drink, I don't think this will work out\", 'What is you next dream job?', 'A cop.', 'Police Officer, have you looked into that what it takes?', 'yeah trying to get back into this cadet program I was doing for about three weeks ago was doing it but was too far. So to kind of really go forward in my area', \"right maybe that's something we can discuss to help you find the cadet program close fine. We're able to give you a, you know, some goals to set to get you in the program at that. But let's look at you know, back, let's back up a little bit to the marijuana. Because you and I know being in law enforcement, you know, marijuana and being a cop, pretty much \", 'Yeah, yeah. ', 'And you would have to what would you have to do?', 'Let it go, I have to let it go. ', \"So, what we want to do while you're here, you know, we want to help you here develop a treatment plan and treatment model where you can pursue some realistic goals. We want to set some goals for you. Also, what about your medical History tongue a little bit about your medical history. Have you ever been in the hospital? Has anything ever happened to a broken bone\", 'I had surgery on my cybereason', 'What about in your family? Is there any diseases in your family and you want to know suffer for any illnesses, ailments. Okay. And as far as medical attention is there anyone that needs medical that needed medical attention in the past maybe someone on meds in your family psychological health? Was there anyone maybe that has gone to therapy that has been in therapy Your family and family member', 'No.', \"And what we want to do, what I want to do to help you with this verse is one want to develop a treatment plan to help you with the marijuana use. We want to be able to look at your support system, you know who's in your life right now? What are your friends that you smoke marijuana with? What type of people are they? Would this be a good fit for you? But our whole goal is to start you off with small steps. So today, you're using marijuana how many times a day. So you pretty much said you use it every day. \", 'Yeah.', 'But how many times?', '3-4 times', 'Do you wake up and you do?', \"yeah. It's not my morning routine. Go ahead and do it. And then usually around noon time I'll do it again and then towards five o'clock. I'll do it again at nighttime in Fargo. They'll do Again, right\", \"so one of maybe one of the realistic goals is you're okay you know we can we can narrow down maybe the relationship see which of your friends right now today? How many of them smoke\", 'about six seven', 'Yeah so maybe a realistic short term goal is to begin to see which friends to hang out with you know and then also your mom man either way she', \"She told me before you fall into the wrong crowd and fall into something just she pretty much said that this if I keep this up is gonna get me into something I don't want to get into right now jail time round because we makes you do things that you shouldn't be doing for other things legal, right so,\", 'so definitely we want to look at your whole peer relationships who your friends are We also want to look at your your time right now. So, you mentioned earlier that you were working. Are you working today? ', 'No.', \"Okay, so maybe that's another thing a realistic goal that we need to look at, and maybe help you pursue is it as a job? Maybe because the idle time sometimes can trigger events, you know, where you begin to want to use marijuana, and then we can identify some of the emotions that you're feeling. Let's go over that maybe briefly. Before you get before you smoke marijuana, is there a feeling that you have that says, hey, you depress, so we can look at the depression and see how we can treat that. What else? What are some of the other feelings that you see?\", 'so angry, You know', 'what you think?', \"Be a bit boring, but my girlfriend So it's kind of a start. So it still bothers me as much as I'm trying to ignore it. Instead, it still bothers me. \", \"Right? There's a certain days that maybe perhaps you remember or events\", 'Like Thanksgiving and Christmas and holidays and things like that.', \"That's when you become angry.\", 'Yes.', 'How you were brought up?', \"Yeah its like that I don't appreciate my foster parents. Right? But just with Billy, I've been born with my biological right.\", \"So we want to we want to maybe will equip you with some coping skills, how to cope with those things, how to prepare you maybe for the holidays, maybe there's a way we can, you know, we can begin to look at that. During the holidays. This is these are the emotions I feel. So we identify those emotions and we'll be able to, you know, take care of that we'll be able to prepare you prior to you are you falling back into the trap of going out and using marijuana Maybe during Christmas? Do you feel the same way during Christmas?\", 'Yeah', \"Maybe even your birthday, Father's Day, Mother's Day, these are all things that we can kind of get you ready for. Because once again, it's gonna take small steps, realistic goals. And then what we want to do after that the real estate goals is just get you ready, you know, for long term goal. But you know what, Curtis? I'm glad you came into my office. It was great meeting you. I look forward to working with you. \", 'All right.', 'Is there any other questions that you may have for me? Is there anything?', 'How many times a week Am I going to be allowed to come?', \"What Well, we can do we'll set you up with a treatment plan. And then I'd like to meet at least have two contacts with you your week. We can go over that. And then maybe during one of the context, we can help you with one, help you with a job. Okay? And then identifying some of the emotions. And then maybe we can get the whole marijuana use, we can begin to kind of taper it down instead of seven, you know, everyday. Yeah, we'll begin to see how we can take with that. Okay, we're down but again, I'm glad that you came. It was a pleasure meeting you and we'll be in touch and we'll be able to do it again.\", 'Okay. All right.'], 'speaker': array([[1, 0],\n       [0, 1],\n       [1, 0],\n       [0, 1],\n       [1, 0],\n       [0, 1],\n       [1, 0],\n       [0, 1],\n       [1, 0],\n       [0, 1],\n       [1, 0],\n       [0, 1],\n       [1, 0],\n       [0, 1],\n       [1, 0],\n       [0, 1],\n       [1, 0],\n       [0, 1],\n       [1, 0],\n       [0, 1],\n       [1, 0],\n       [0, 1],\n       [1, 0],\n       [0, 1],\n       [1, 0],\n       [0, 1],\n       [1, 0],\n       [0, 1],\n       [1, 0],\n       [0, 1],\n       [1, 0],\n       [0, 1],\n       [1, 0],\n       [0, 1],\n       [1, 0],\n       [0, 1],\n       [1, 0],\n       [0, 1],\n       [1, 0],\n       [0, 1],\n       [1, 0],\n       [0, 1],\n       [1, 0],\n       [0, 1],\n       [1, 0],\n       [0, 1],\n       [1, 0],\n       [0, 1],\n       [1, 0],\n       [0, 1],\n       [1, 0],\n       [0, 1],\n       [1, 0],\n       [0, 1],\n       [1, 0],\n       [0, 1],\n       [1, 0],\n       [0, 1],\n       [1, 0],\n       [0, 1],\n       [1, 0],\n       [0, 1],\n       [1, 0],\n       [0, 1],\n       [1, 0],\n       [0, 1],\n       [1, 0],\n       [0, 1],\n       [1, 0],\n       [0, 1],\n       [1, 0],\n       [0, 1]], dtype=int64), 'tag': ['irq', 'id', 'irq', 'id', 'irq', 'id', 'irq', 'id', 'ynq', 'ack', 'ynq', 'ack', 'irq', 'id', 'ynq', 'ack', 'ynq', 'ack', 'irq', 'id', 'gc', 'gc', 'irq', 'id', 'irq', 'id', 'irq', 'id', 'gc', 'gc', 'irq', 'id', 'irq', 'id', 'gc', 'ack', 'irq', 'id', 'irq', 'id', 'irq', 'yna', 'ynq', 'ack', 'irq', 'id', 'irq', 'id', 'irq', 'id', 'gc', 'gc', 'ynq', 'yna', 'irq', 'id', 'irq', 'id', 'ack', 'gc', 'irq', 'ack', 'irq', 'id', 'ynq', 'ack', 'id', 'ack', 'irq', 'irq', 'id', 'gt'], 'sequence': array([[ 263,   42,   26, ...,    0,    0,    0],\n       [1223,   15,  381, ...,    0,    0,    0],\n       [  25,  154, 4653, ...,    0,    0,    0],\n       ...,\n       [ 170,  542,  932, ...,    0,    0,    0],\n       [  43,   28,  144, ...,    0,    0,    0],\n       [  25,   26,   27, ...,    0,    0,    0]]), 'speaker_change': array([1, 1, 1, 1, 1, 1, 1, 1, 1, 1, 1, 1, 1, 1, 1, 1, 1, 1, 1, 1, 1, 1,\n       1, 1, 1, 1, 1, 1, 1, 1, 1, 1, 1, 1, 1, 1, 1, 1, 1, 1, 1, 1, 1, 1,\n       1, 1, 1, 1, 1, 1, 1, 1, 1, 1, 1, 1, 1, 1, 1, 1, 1, 1, 1, 1, 1, 1,\n       1, 1, 1, 1, 1], dtype=int64), 'prediction': ['irq', 'id', 'irq', 'id', 'irq', 'id', 'irq', 'id', 'irq', 'id', 'irq', 'id', 'irq', 'id', 'irq', 'id', 'irq', 'id', 'irq', 'id', 'irq', 'id', 'irq', 'id', 'irq', 'id', 'irq', 'id', 'irq', 'id', 'irq', 'id', 'irq', 'id', 'irq', 'id', 'irq', 'id', 'irq', 'id', 'irq', 'id', 'irq', 'id', 'irq', 'id', 'irq', 'id', 'irq', 'id', 'irq', 'id', 'irq', 'id', 'irq', 'id', 'irq', 'id', 'irq', 'id', 'irq', 'id', 'irq', 'id', 'irq', 'id', 'cmd', 'gc', 'ynq', 'id', 'id', 'gc']})}\n"
     ]
    }
   ],
   "source": []
  },
  {
   "cell_type": "code",
   "execution_count": 2,
   "metadata": {},
   "outputs": [
    {
     "output_type": "stream",
     "name": "stdout",
     "text": [
      "dict_keys(['163', '204', '27', '175', '97', '67', '75', '48', '111', '171', '206'])\n"
     ]
    }
   ],
   "source": [
    "print(data.keys())"
   ]
  },
  {
   "cell_type": "code",
   "execution_count": 2,
   "metadata": {},
   "outputs": [],
   "source": [
    "l=list()\n",
    "l1=[]\n",
    "for key in data.keys():\n",
    "    l.append(data[key]['prediction'])\n",
    "    l1.append(data[key]['sentence'])"
   ]
  },
  {
   "cell_type": "code",
   "execution_count": 3,
   "metadata": {
    "tags": []
   },
   "outputs": [],
   "source": [
    "d={'utterances':l1,'tags':l}"
   ]
  },
  {
   "cell_type": "code",
   "execution_count": 15,
   "metadata": {},
   "outputs": [],
   "source": [
    "import pandas as pd\n",
    "df=pd.DataFrame(l)\n",
    "df.to_csv('sa-crf.csv')"
   ]
  },
  {
   "cell_type": "code",
   "execution_count": 4,
   "metadata": {},
   "outputs": [],
   "source": [
    "import pandas as pd\n",
    "dframe=pd.DataFrame(d)\n",
    "dframe.to_csv('sa-crf-preds.csv')"
   ]
  },
  {
   "cell_type": "code",
   "execution_count": 27,
   "metadata": {},
   "outputs": [],
   "source": [
    "j=['gt', 'gt', 'irq', 'id', 'irq', 'id', 'irq', 'id', 'irq', 'id', 'irq', 'id', 'irq', 'id', 'irq', 'yna', 'id', 'id', 'gc', 'ack', 'irq', 'id', 'gc', 'ack', 'gc', 'gt']"
   ]
  },
  {
   "cell_type": "code",
   "execution_count": 29,
   "metadata": {},
   "outputs": [],
   "source": [
    "import csv\n",
    "with open('hello.csv', 'w') as f:\n",
    "    wr=csv.writer(f)\n",
    "    wr.writerow(j)\n"
   ]
  },
  {
   "cell_type": "code",
   "execution_count": 9,
   "metadata": {},
   "outputs": [
    {
     "output_type": "stream",
     "name": "stdout",
     "text": [
      "Empty DataFrame\nColumns: [gt, gt.1, irq, id, irq.1, id.1, irq.2, id.2, irq.3, id.3, irq.4, id.4, irq.5, id.5, ynq, ack, ynq.1, ack.1, ynq.2, ack.2, irq.6, id.6, irq.7, id.7, ynq.3, ack.3, irq.8, id.8, gc, yna, irq.9, id.9, gc.1, id.10, irq.10, ack.4, irq.11, id.11, ynq.4, yna.1, irq.12, id.12, irq.13, id.13, irq.14, yna.2, irq.15, id.14, irq.16, ack.5, irq.17, id.15, irq.18, yna.3, irq.19, ack.6, irq.20, ack.7, ynq.5, ack.8, id.16, id.17, id.18, id.19, irq.21, id.20, id.21, ack.9, irq.22, id.22, ynq.6, ack.10, id.23, ack.11, irq.23, id.24, irq.24, id.25, irq.25, ack.12, irq.26, ack.13, irq.27, id.26, irq.28, id.27, irq.29, id.28, gc.2, id.29, gc.3, id.30, id.31, id.32, id.33, cr, irq.30, id.34, id.35, ack.14, ...]\nIndex: []\n\n[0 rows x 115 columns]\n"
     ]
    }
   ],
   "source": [
    "df=pd.read_csv('hello.csv')\n",
    "print(df.head())"
   ]
  }
 ],
 "metadata": {
  "kernelspec": {
   "name": "python374jvsc74a57bd0fc045a375f40b16ed27c57c0d3529c294bbee8f76368bcb06537e761d2c64ebc",
   "display_name": "Python 3.7.4 64-bit (conda)"
  },
  "language_info": {
   "codemirror_mode": {
    "name": "ipython",
    "version": 3
   },
   "file_extension": ".py",
   "mimetype": "text/x-python",
   "name": "python",
   "nbconvert_exporter": "python",
   "pygments_lexer": "ipython3",
   "version": "3.7.4"
  }
 },
 "nbformat": 4,
 "nbformat_minor": 4
}